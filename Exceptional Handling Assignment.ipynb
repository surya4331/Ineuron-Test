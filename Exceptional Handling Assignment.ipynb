{
 "cells": [
  {
   "cell_type": "markdown",
   "metadata": {},
   "source": [
    "## Exceptional Handling"
   ]
  },
  {
   "cell_type": "code",
   "execution_count": 6,
   "metadata": {},
   "outputs": [
    {
     "name": "stdout",
     "output_type": "stream",
     "text": [
      "division by zero!\n"
     ]
    }
   ],
   "source": [
    "#Write a function to compute 5/0 and use try/except to catch the exceptions.\n",
    "\n",
    "## Divide by zero\n",
    "def divide():\n",
    "    return 5/0\n",
    "\n",
    "try:\n",
    "    divide()\n",
    "except ZeroDivisionError:\n",
    "    print (\"division by zero!\")\n",
    "except Exception:\n",
    "    print ('other errors')"
   ]
  },
  {
   "cell_type": "markdown",
   "metadata": {},
   "source": [
    "Problem_2-:Implement a Python program to generate all sentences where subject is in [\"Americans\", \"Indians\"] and verb is in [\"Play\", \"watch\"] and the object is in [\"Baseball\",\"cricket\"].\n",
    "\n",
    "        Hint: Subject,Verb and Object should be declared in the program as shown below.                \n",
    "        subjects=[\"Americans \",\"Indians\"]\n",
    "        verbs=[\"play\",\"watch\"]\n",
    "        objects=[\"Baseball\",\"Cricket\"]\n",
    "\n",
    "Exptected Output  :                       \n",
    "                   Americans play Baseball.\n",
    "                   Americans play Cricket.\n",
    "                   Americans watch Baseball.\n",
    "                   Americans watch Cricket.\n",
    "                   Indians play Baseball.\n",
    "                   Indians play Cricket.\n",
    "                   Indians watch Baseball.\n",
    "                   Indians watch Cricket.\n",
    "\n"
   ]
  },
  {
   "cell_type": "code",
   "execution_count": 10,
   "metadata": {},
   "outputs": [
    {
     "name": "stdout",
     "output_type": "stream",
     "text": [
      "Output:\n",
      "Americans play Baseball.\n",
      "Americans play Cricket.\n",
      "Americans watch Baseball.\n",
      "Americans watch Cricket.\n",
      "Indians play Baseball.\n",
      "Indians play Cricket.\n",
      "Indians watch Baseball.\n",
      "Indians watch Cricket.\n"
     ]
    }
   ],
   "source": [
    "subject=[\"Americans\",\"Indians\"]\n",
    "verb=[\"play\",\"watch\"]\n",
    "objects=[\"Baseball\",\"Cricket\"]\n",
    "\n",
    "# List Comprehension\n",
    "Syntax = [(Sub+' '+vrb+' '+Objct+\".\") for Sub in subject for vrb in verb for Objct in objects]\n",
    "\n",
    "#for Loop for Iteration\n",
    "print(\"Output:\")\n",
    "\n",
    "for i in Syntax:    \n",
    "    print(i)"
   ]
  },
  {
   "cell_type": "code",
   "execution_count": null,
   "metadata": {},
   "outputs": [],
   "source": []
  }
 ],
 "metadata": {
  "kernelspec": {
   "display_name": "Python 3",
   "language": "python",
   "name": "python3"
  },
  "language_info": {
   "codemirror_mode": {
    "name": "ipython",
    "version": 3
   },
   "file_extension": ".py",
   "mimetype": "text/x-python",
   "name": "python",
   "nbconvert_exporter": "python",
   "pygments_lexer": "ipython3",
   "version": "3.8.5"
  }
 },
 "nbformat": 4,
 "nbformat_minor": 4
}
