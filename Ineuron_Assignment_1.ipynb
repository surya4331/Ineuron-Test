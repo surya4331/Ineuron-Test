{
 "cells": [
  {
   "cell_type": "code",
   "execution_count": 21,
   "metadata": {},
   "outputs": [
    {
     "name": "stdout",
     "output_type": "stream",
     "text": [
      "[2030, 2065, 2100, 2135, 2170, 2205, 2240, 2275, 2310, 2345, 2380, 2415, 2450, 2485, 2520, 2555, 2590, 2625, 2660, 2695, 2730, 2765, 2800, 2835, 2870, 2905, 2940, 2975, 3010, 3045, 3080, 3115, 3150, 3185]\n"
     ]
    }
   ],
   "source": [
    "#Write a program which will find all such numbers which are divisible by 7 but are not a multiple of 5.\n",
    "#between 2000 and 3200 (both included). The numbers obtained should be printed.\n",
    "#in a comma-separated sequence on a single line.\n",
    "a=[]\n",
    "for i in range(2000,3200,1):\n",
    "    if i%7==0 and i%5==0:\n",
    "        a.append(i)\n",
    "print(a)        "
   ]
  },
  {
   "cell_type": "code",
   "execution_count": 25,
   "metadata": {},
   "outputs": [
    {
     "name": "stdout",
     "output_type": "stream",
     "text": [
      "Enter first name:suryauday\n",
      "Enter last name:vishwakarma\n",
      "suryauday vishwakarma\n",
      "reverse order name: vishwakarma suryauday\n"
     ]
    }
   ],
   "source": [
    "#Write a Python program to accept the user's first and last name and then getting them\n",
    "#printed in the the reverse order with a space between first name and last name.\n",
    "first_name=str(input('Enter first name:'))\n",
    "last_name=str(input('Enter last name:'))\n",
    "print(first_name,last_name)\n",
    "print('reverse order name: {}'' ''{}'.format(last_name,first_name))"
   ]
  },
  {
   "cell_type": "code",
   "execution_count": null,
   "metadata": {},
   "outputs": [],
   "source": []
  },
  {
   "cell_type": "code",
   "execution_count": 29,
   "metadata": {},
   "outputs": [
    {
     "name": "stdout",
     "output_type": "stream",
     "text": [
      "Enter the sphere diameter:12\n",
      "905.142857142857\n"
     ]
    },
    {
     "data": {
      "text/plain": [
       "float"
      ]
     },
     "execution_count": 29,
     "metadata": {},
     "output_type": "execute_result"
    }
   ],
   "source": [
    "#Write a Python program to find the volume of a sphere with diameter 12 cm.\n",
    "#formula: V=4/3 * π * r^3\n",
    "\n",
    "diameter = float(input('Enter the sphere diameter:'))\n",
    "r=diameter/2\n",
    "pi=22/7\n",
    "volume = (4/3)*(pi)*(r**3)\n",
    "print(volume)\n",
    "type(volume)"
   ]
  },
  {
   "cell_type": "code",
   "execution_count": null,
   "metadata": {},
   "outputs": [],
   "source": []
  }
 ],
 "metadata": {
  "kernelspec": {
   "display_name": "Python 3",
   "language": "python",
   "name": "python3"
  },
  "language_info": {
   "codemirror_mode": {
    "name": "ipython",
    "version": 3
   },
   "file_extension": ".py",
   "mimetype": "text/x-python",
   "name": "python",
   "nbconvert_exporter": "python",
   "pygments_lexer": "ipython3",
   "version": "3.8.5"
  }
 },
 "nbformat": 4,
 "nbformat_minor": 4
}
