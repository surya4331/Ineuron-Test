{
 "cells": [
  {
   "cell_type": "code",
   "execution_count": 13,
   "metadata": {},
   "outputs": [],
   "source": [
    "#init method\n",
    "\n",
    "\n",
    "class Student:\n",
    "    def __init__(self,name,rollnumber):\n",
    "        self.name=name\n",
    "        self.rollnumber=rollnumber\n",
    "    "
   ]
  },
  {
   "cell_type": "code",
   "execution_count": 14,
   "metadata": {},
   "outputs": [],
   "source": [
    "s1=Student('surya',12)"
   ]
  },
  {
   "cell_type": "code",
   "execution_count": null,
   "metadata": {},
   "outputs": [],
   "source": [
    "s1.__dict__"
   ]
  },
  {
   "cell_type": "code",
   "execution_count": null,
   "metadata": {},
   "outputs": [],
   "source": [
    "s2=Student('surya',15)\n",
    "s1,s2"
   ]
  },
  {
   "cell_type": "code",
   "execution_count": null,
   "metadata": {},
   "outputs": [],
   "source": [
    "## Instance method\n",
    "#init method\n",
    "\n",
    "\n",
    "class Student:\n",
    "    def __init__(self,name,rollnumber):\n",
    "        self.name=name\n",
    "        self.rollnumber=rollnumber\n",
    "    def printStudent(self):\n",
    "        print('My name is',self.name,'and my Roll number is',self.rollnumber)"
   ]
  },
  {
   "cell_type": "code",
   "execution_count": null,
   "metadata": {},
   "outputs": [],
   "source": [
    "s1.__dict__"
   ]
  },
  {
   "cell_type": "code",
   "execution_count": null,
   "metadata": {},
   "outputs": [],
   "source": [
    "s1.printStudent()"
   ]
  },
  {
   "cell_type": "code",
   "execution_count": null,
   "metadata": {},
   "outputs": [],
   "source": [
    "Student.printStudent(s1)"
   ]
  },
  {
   "cell_type": "code",
   "execution_count": null,
   "metadata": {},
   "outputs": [],
   "source": [
    "##fraction class example\n",
    "\n",
    "class Fraction:\n",
    "    def __init__(self,num=0,den=1):\n",
    "        self.num=num\n",
    "        self.den=den"
   ]
  },
  {
   "cell_type": "code",
   "execution_count": null,
   "metadata": {},
   "outputs": [],
   "source": [
    "f=Fraction(2,3)"
   ]
  },
  {
   "cell_type": "code",
   "execution_count": null,
   "metadata": {},
   "outputs": [],
   "source": [
    "f.__dict__"
   ]
  },
  {
   "cell_type": "code",
   "execution_count": null,
   "metadata": {},
   "outputs": [],
   "source": [
    "f2=Fraction()\n",
    "f2.__dict__"
   ]
  },
  {
   "cell_type": "code",
   "execution_count": null,
   "metadata": {},
   "outputs": [],
   "source": [
    "f3=Fraction(1)"
   ]
  },
  {
   "cell_type": "code",
   "execution_count": null,
   "metadata": {},
   "outputs": [],
   "source": [
    "f3.__dict__"
   ]
  },
  {
   "cell_type": "code",
   "execution_count": null,
   "metadata": {},
   "outputs": [],
   "source": [
    "class Fraction:\n",
    "    \n",
    "    def __init__(self,num=0,den=1):\n",
    "        if den==0:\n",
    "            den=1\n",
    "        self.num=num\n",
    "        self.den=den\n",
    "    \n",
    "    \n",
    "    def print(self):\n",
    "        if self.num==0:\n",
    "            print(0)\n",
    "        elif self.den==1:\n",
    "                print(self.num)\n",
    "        else:\n",
    "            print(self.num,'/',self.den)\n",
    "    \n",
    "    \n",
    "    def simplify(self):\n",
    "        \n",
    "        if self.num==0:\n",
    "            self.den=1\n",
    "            return\n",
    "        \n",
    "        current=min(self.num,self.den)\n",
    "        \n",
    "        while current >1:\n",
    "            if self.num % current == 0 and self.den % current ==0:\n",
    "                break\n",
    "            current -= 1\n",
    "        \n",
    "        self.num=self.num//current\n",
    "        self.den=self.den//current"
   ]
  },
  {
   "cell_type": "code",
   "execution_count": null,
   "metadata": {},
   "outputs": [],
   "source": [
    "f9=Fraction(2,3)"
   ]
  },
  {
   "cell_type": "code",
   "execution_count": null,
   "metadata": {},
   "outputs": [],
   "source": [
    "f9.print()"
   ]
  },
  {
   "cell_type": "code",
   "execution_count": null,
   "metadata": {},
   "outputs": [],
   "source": [
    "f9.__dict__"
   ]
  },
  {
   "cell_type": "code",
   "execution_count": null,
   "metadata": {},
   "outputs": [],
   "source": [
    "f8=Fraction(0\n",
    "        )\n",
    "f8.print()"
   ]
  },
  {
   "cell_type": "code",
   "execution_count": null,
   "metadata": {},
   "outputs": [],
   "source": [
    "f7=Fraction(9,0); f7.print()"
   ]
  },
  {
   "cell_type": "code",
   "execution_count": null,
   "metadata": {},
   "outputs": [],
   "source": [
    "f=Fraction(14,6)"
   ]
  },
  {
   "cell_type": "code",
   "execution_count": null,
   "metadata": {},
   "outputs": [],
   "source": [
    "f.print()"
   ]
  },
  {
   "cell_type": "code",
   "execution_count": null,
   "metadata": {},
   "outputs": [],
   "source": [
    "f.simplify()"
   ]
  },
  {
   "cell_type": "code",
   "execution_count": null,
   "metadata": {},
   "outputs": [],
   "source": [
    "f2=Fraction(0,5)"
   ]
  },
  {
   "cell_type": "code",
   "execution_count": null,
   "metadata": {},
   "outputs": [],
   "source": [
    "f2.simplify()"
   ]
  },
  {
   "cell_type": "code",
   "execution_count": null,
   "metadata": {},
   "outputs": [],
   "source": [
    "f2.print()"
   ]
  },
  {
   "cell_type": "code",
   "execution_count": null,
   "metadata": {},
   "outputs": [],
   "source": [
    "num = int(input())\n",
    "den=int(input())\n",
    "f5=Fraction(num,den)\n",
    "f5.simplify()\n",
    "f5.print()"
   ]
  },
  {
   "cell_type": "code",
   "execution_count": 10,
   "metadata": {},
   "outputs": [],
   "source": [
    "class Fraction:\n",
    "    \n",
    "    def __init__(self,num=0,den=1):\n",
    "        if den==0:\n",
    "            den=1\n",
    "        self.num=num\n",
    "        self.den=den\n",
    "    \n",
    "    \n",
    "    def print(self):\n",
    "        if self.num==0:\n",
    "            print(0)\n",
    "        elif self.den==1:\n",
    "                print(self.num)\n",
    "        else:\n",
    "            print(self.num,'/',self.den)\n",
    "    \n",
    "    \n",
    "    def simplify(self):\n",
    "        \n",
    "        if self.num==0:\n",
    "            self.den=1\n",
    "            return\n",
    "        \n",
    "        current=min(self.num,self.den)\n",
    "        \n",
    "        while current >1:\n",
    "            if self.num % current == 0 and self.den % current ==0:\n",
    "                break\n",
    "            current -= 1\n",
    "        \n",
    "        self.num=self.num//current\n",
    "        self.den=self.den//current\n",
    "        \n",
    "    def add(self,otherFraction):\n",
    "        newNum=otherFraction.den * self.num + self.den*otherFraction.num\n",
    "        newDen=otherFraction.den * self.den\n",
    "        \n",
    "        self.num=newNum\n",
    "        self.den=newDen\n",
    "        self.simplify()\n",
    "        \n",
    "    def multiply(self,otherFraction):\n",
    "        newNum=otherFraction.num * self.num\n",
    "        newDen=otherFraction.den * self.den\n",
    "        \n",
    "        self.num=newNum\n",
    "        self.den=newDen\n",
    "        self.simplify()"
   ]
  },
  {
   "cell_type": "code",
   "execution_count": 5,
   "metadata": {},
   "outputs": [],
   "source": [
    "#Fraction addition of two amd multiply\n",
    "\n",
    "f1=Fraction(2,3)\n",
    "f2=Fraction(1,5)"
   ]
  },
  {
   "cell_type": "code",
   "execution_count": 6,
   "metadata": {},
   "outputs": [
    {
     "name": "stdout",
     "output_type": "stream",
     "text": [
      "13 / 15\n"
     ]
    }
   ],
   "source": [
    "#add\n",
    "f1.add(f2)\n",
    "f1.print()"
   ]
  },
  {
   "cell_type": "code",
   "execution_count": 11,
   "metadata": {},
   "outputs": [
    {
     "name": "stdout",
     "output_type": "stream",
     "text": [
      "7 / 12\n"
     ]
    }
   ],
   "source": [
    "#multiply\n",
    "f1=Fraction(4,6)\n",
    "f2=Fraction(7,8)\n",
    "f1.multiply(f2)\n",
    "f1.print()\n"
   ]
  },
  {
   "cell_type": "code",
   "execution_count": null,
   "metadata": {},
   "outputs": [],
   "source": []
  }
 ],
 "metadata": {
  "kernelspec": {
   "display_name": "Python 3",
   "language": "python",
   "name": "python3"
  },
  "language_info": {
   "codemirror_mode": {
    "name": "ipython",
    "version": 3
   },
   "file_extension": ".py",
   "mimetype": "text/x-python",
   "name": "python",
   "nbconvert_exporter": "python",
   "pygments_lexer": "ipython3",
   "version": "3.8.3"
  }
 },
 "nbformat": 4,
 "nbformat_minor": 4
}
